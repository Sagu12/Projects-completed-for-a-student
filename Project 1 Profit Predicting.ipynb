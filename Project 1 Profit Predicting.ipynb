{
 "cells": [
  {
   "cell_type": "markdown",
   "metadata": {},
   "source": [
    "##### importing the necessary libraries for EDA and prediction"
   ]
  },
  {
   "cell_type": "code",
   "execution_count": 178,
   "metadata": {},
   "outputs": [],
   "source": [
    "import pandas as pd\n",
    "import matplotlib.pyplot as plt\n",
    "import seaborn as sns\n",
    "import numpy as np\n",
    "sns.set()\n",
    "from sklearn.model_selection import train_test_split\n",
    "from sklearn.preprocessing import StandardScaler\n",
    "from sklearn.metrics import r2_score\n",
    "from sklearn.linear_model import LinearRegression\n",
    "from sklearn.svm import SVR\n",
    "from sklearn.model_selection import cross_val_score"
   ]
  },
  {
   "cell_type": "markdown",
   "metadata": {},
   "source": [
    "##### loading the dataset with the help of pandas library and viewing the first 5 rows of the data"
   ]
  },
  {
   "cell_type": "code",
   "execution_count": 43,
   "metadata": {},
   "outputs": [
    {
     "data": {
      "text/html": [
       "<div>\n",
       "<style scoped>\n",
       "    .dataframe tbody tr th:only-of-type {\n",
       "        vertical-align: middle;\n",
       "    }\n",
       "\n",
       "    .dataframe tbody tr th {\n",
       "        vertical-align: top;\n",
       "    }\n",
       "\n",
       "    .dataframe thead th {\n",
       "        text-align: right;\n",
       "    }\n",
       "</style>\n",
       "<table border=\"1\" class=\"dataframe\">\n",
       "  <thead>\n",
       "    <tr style=\"text-align: right;\">\n",
       "      <th></th>\n",
       "      <th>R&amp;D Spend</th>\n",
       "      <th>Administration</th>\n",
       "      <th>Marketing Spend</th>\n",
       "      <th>City</th>\n",
       "      <th>Profit</th>\n",
       "    </tr>\n",
       "  </thead>\n",
       "  <tbody>\n",
       "    <tr>\n",
       "      <th>0</th>\n",
       "      <td>165349.20</td>\n",
       "      <td>136897.80</td>\n",
       "      <td>471784.10</td>\n",
       "      <td>Mumbai</td>\n",
       "      <td>192261.83</td>\n",
       "    </tr>\n",
       "    <tr>\n",
       "      <th>1</th>\n",
       "      <td>162597.70</td>\n",
       "      <td>151377.59</td>\n",
       "      <td>443898.53</td>\n",
       "      <td>Bangalore</td>\n",
       "      <td>191792.06</td>\n",
       "    </tr>\n",
       "    <tr>\n",
       "      <th>2</th>\n",
       "      <td>153441.51</td>\n",
       "      <td>101145.55</td>\n",
       "      <td>407934.54</td>\n",
       "      <td>Delhi</td>\n",
       "      <td>191050.39</td>\n",
       "    </tr>\n",
       "    <tr>\n",
       "      <th>3</th>\n",
       "      <td>144372.41</td>\n",
       "      <td>118671.85</td>\n",
       "      <td>383199.62</td>\n",
       "      <td>Mumbai</td>\n",
       "      <td>182901.99</td>\n",
       "    </tr>\n",
       "    <tr>\n",
       "      <th>4</th>\n",
       "      <td>142107.34</td>\n",
       "      <td>91391.77</td>\n",
       "      <td>366168.42</td>\n",
       "      <td>Delhi</td>\n",
       "      <td>166187.94</td>\n",
       "    </tr>\n",
       "  </tbody>\n",
       "</table>\n",
       "</div>"
      ],
      "text/plain": [
       "   R&D Spend  Administration  Marketing Spend       City     Profit\n",
       "0  165349.20       136897.80        471784.10     Mumbai  192261.83\n",
       "1  162597.70       151377.59        443898.53  Bangalore  191792.06\n",
       "2  153441.51       101145.55        407934.54      Delhi  191050.39\n",
       "3  144372.41       118671.85        383199.62     Mumbai  182901.99\n",
       "4  142107.34        91391.77        366168.42      Delhi  166187.94"
      ]
     },
     "execution_count": 43,
     "metadata": {},
     "output_type": "execute_result"
    }
   ],
   "source": [
    "df= pd.read_csv(r\"Companies-profit.csv\")\n",
    "df.head(5)"
   ]
  },
  {
   "cell_type": "markdown",
   "metadata": {},
   "source": [
    "###### checking the data types of the columns/features"
   ]
  },
  {
   "cell_type": "code",
   "execution_count": 44,
   "metadata": {},
   "outputs": [
    {
     "data": {
      "text/plain": [
       "R&D Spend          float64\n",
       "Administration     float64\n",
       "Marketing Spend    float64\n",
       "City                object\n",
       "Profit             float64\n",
       "dtype: object"
      ]
     },
     "execution_count": 44,
     "metadata": {},
     "output_type": "execute_result"
    }
   ],
   "source": [
    "df.dtypes"
   ]
  },
  {
   "cell_type": "markdown",
   "metadata": {},
   "source": [
    "###### so here we can see that we have 4 features as type float and one feature that is city as object type. So first we will chekc for any null values and try to eliminate the same and then after we will be preprocessing the object column and change it to one hot encoded form. The reason for changing the column to one hot encoded form is because the categories within the object column are nominal in nature that is donot possess any kinf of relationship with each other. If the categories would have been of ordinal type then we would have chosen label encoding."
   ]
  },
  {
   "cell_type": "code",
   "execution_count": 45,
   "metadata": {},
   "outputs": [
    {
     "data": {
      "text/plain": [
       "R&D Spend          0\n",
       "Administration     0\n",
       "Marketing Spend    0\n",
       "City               0\n",
       "Profit             0\n",
       "dtype: int64"
      ]
     },
     "execution_count": 45,
     "metadata": {},
     "output_type": "execute_result"
    }
   ],
   "source": [
    "df.isnull().sum()"
   ]
  },
  {
   "cell_type": "markdown",
   "metadata": {},
   "source": [
    "##### so we can see that there are no null values in the dataset so let's visualize the data and then one hot encode the cat column"
   ]
  },
  {
   "cell_type": "code",
   "execution_count": 46,
   "metadata": {},
   "outputs": [
    {
     "data": {
      "text/html": [
       "<div>\n",
       "<style scoped>\n",
       "    .dataframe tbody tr th:only-of-type {\n",
       "        vertical-align: middle;\n",
       "    }\n",
       "\n",
       "    .dataframe tbody tr th {\n",
       "        vertical-align: top;\n",
       "    }\n",
       "\n",
       "    .dataframe thead th {\n",
       "        text-align: right;\n",
       "    }\n",
       "</style>\n",
       "<table border=\"1\" class=\"dataframe\">\n",
       "  <thead>\n",
       "    <tr style=\"text-align: right;\">\n",
       "      <th></th>\n",
       "      <th>R&amp;D Spend</th>\n",
       "      <th>Administration</th>\n",
       "      <th>Marketing Spend</th>\n",
       "      <th>City</th>\n",
       "      <th>Profit</th>\n",
       "    </tr>\n",
       "  </thead>\n",
       "  <tbody>\n",
       "    <tr>\n",
       "      <th>0</th>\n",
       "      <td>165349.20</td>\n",
       "      <td>136897.80</td>\n",
       "      <td>471784.10</td>\n",
       "      <td>Mumbai</td>\n",
       "      <td>192261.83</td>\n",
       "    </tr>\n",
       "    <tr>\n",
       "      <th>1</th>\n",
       "      <td>162597.70</td>\n",
       "      <td>151377.59</td>\n",
       "      <td>443898.53</td>\n",
       "      <td>Bangalore</td>\n",
       "      <td>191792.06</td>\n",
       "    </tr>\n",
       "    <tr>\n",
       "      <th>2</th>\n",
       "      <td>153441.51</td>\n",
       "      <td>101145.55</td>\n",
       "      <td>407934.54</td>\n",
       "      <td>Delhi</td>\n",
       "      <td>191050.39</td>\n",
       "    </tr>\n",
       "    <tr>\n",
       "      <th>3</th>\n",
       "      <td>144372.41</td>\n",
       "      <td>118671.85</td>\n",
       "      <td>383199.62</td>\n",
       "      <td>Mumbai</td>\n",
       "      <td>182901.99</td>\n",
       "    </tr>\n",
       "    <tr>\n",
       "      <th>4</th>\n",
       "      <td>142107.34</td>\n",
       "      <td>91391.77</td>\n",
       "      <td>366168.42</td>\n",
       "      <td>Delhi</td>\n",
       "      <td>166187.94</td>\n",
       "    </tr>\n",
       "  </tbody>\n",
       "</table>\n",
       "</div>"
      ],
      "text/plain": [
       "   R&D Spend  Administration  Marketing Spend       City     Profit\n",
       "0  165349.20       136897.80        471784.10     Mumbai  192261.83\n",
       "1  162597.70       151377.59        443898.53  Bangalore  191792.06\n",
       "2  153441.51       101145.55        407934.54      Delhi  191050.39\n",
       "3  144372.41       118671.85        383199.62     Mumbai  182901.99\n",
       "4  142107.34        91391.77        366168.42      Delhi  166187.94"
      ]
     },
     "execution_count": 46,
     "metadata": {},
     "output_type": "execute_result"
    }
   ],
   "source": [
    "df.head()"
   ]
  },
  {
   "cell_type": "markdown",
   "metadata": {},
   "source": [
    "##### multivariate analysis using scatter plot for detecting outliers and relations"
   ]
  },
  {
   "cell_type": "code",
   "execution_count": 183,
   "metadata": {},
   "outputs": [
    {
     "data": {
      "text/plain": [
       "<seaborn.axisgrid.FacetGrid at 0x127420c0d60>"
      ]
     },
     "execution_count": 183,
     "metadata": {},
     "output_type": "execute_result"
    },
    {
     "data": {
      "image/png": "[encoded data removed]",
      "text/plain": [
       "<Figure size 360x360 with 1 Axes>"
      ]
     },
     "metadata": {},
     "output_type": "display_data"
    }
   ],
   "source": [
    "sns.relplot(x=\"R&D Spend\", y=\"Profit\", data=df)"
   ]
  },
  {
   "cell_type": "markdown",
   "metadata": {},
   "source": [
    "##### here above we can see that RD Spend and Profit are linearly related to each other"
   ]
  },
  {
   "cell_type": "code",
   "execution_count": 48,
   "metadata": {},
   "outputs": [
    {
     "data": {
      "text/plain": [
       "<seaborn.axisgrid.FacetGrid at 0x12747c18d00>"
      ]
     },
     "execution_count": 48,
     "metadata": {},
     "output_type": "execute_result"
    },
    {
     "data": {
      "image/png": "[encoded data removed]",
      "text/plain": [
       "<Figure size 360x360 with 1 Axes>"
      ]
     },
     "metadata": {},
     "output_type": "display_data"
    }
   ],
   "source": [
    "sns.relplot(x=\"Marketing Spend\", y= \"Profit\", data=df)"
   ]
  },
  {
   "cell_type": "markdown",
   "metadata": {},
   "source": [
    "##### here also the graph of the Marketing spend and Profit are nearly linearly related to each other "
   ]
  },
  {
   "cell_type": "code",
   "execution_count": 49,
   "metadata": {},
   "outputs": [
    {
     "data": {
      "text/plain": [
       "<seaborn.axisgrid.FacetGrid at 0x12745ad1a90>"
      ]
     },
     "execution_count": 49,
     "metadata": {},
     "output_type": "execute_result"
    },
    {
     "data": {
      "image/png": "[encoded data removed]",
      "text/plain": [
       "<Figure size 360x360 with 1 Axes>"
      ]
     },
     "metadata": {},
     "output_type": "display_data"
    }
   ],
   "source": [
    "sns.relplot(x=\"Administration\", y=\"Profit\", data=df)"
   ]
  },
  {
   "cell_type": "markdown",
   "metadata": {},
   "source": [
    "##### here also we can see that most of the data is linearly related with the target but there are a few outliers in the dataset that needs to be dealt with"
   ]
  },
  {
   "cell_type": "code",
   "execution_count": 71,
   "metadata": {},
   "outputs": [
    {
     "data": {
      "text/plain": [
       "<matplotlib.axes._subplots.AxesSubplot at 0x12747e51c10>"
      ]
     },
     "execution_count": 71,
     "metadata": {},
     "output_type": "execute_result"
    },
    {
     "data": {
      "image/png": "[encoded data removed]",
      "text/plain": [
       "<Figure size 432x288 with 1 Axes>"
      ]
     },
     "metadata": {},
     "output_type": "display_data"
    }
   ],
   "source": [
    "sns.countplot(y=\"City\", data=df)"
   ]
  },
  {
   "cell_type": "markdown",
   "metadata": {},
   "source": [
    "##### here we can see that Bangalore city has the highest frequency compared to the other two and therefore the spent on research, marketing and administration is more in Bangalore"
   ]
  },
  {
   "cell_type": "code",
   "execution_count": 51,
   "metadata": {},
   "outputs": [
    {
     "data": {
      "text/html": [
       "<div>\n",
       "<style scoped>\n",
       "    .dataframe tbody tr th:only-of-type {\n",
       "        vertical-align: middle;\n",
       "    }\n",
       "\n",
       "    .dataframe tbody tr th {\n",
       "        vertical-align: top;\n",
       "    }\n",
       "\n",
       "    .dataframe thead th {\n",
       "        text-align: right;\n",
       "    }\n",
       "</style>\n",
       "<table border=\"1\" class=\"dataframe\">\n",
       "  <thead>\n",
       "    <tr style=\"text-align: right;\">\n",
       "      <th></th>\n",
       "      <th>R&amp;D Spend</th>\n",
       "      <th>Administration</th>\n",
       "      <th>Marketing Spend</th>\n",
       "      <th>City</th>\n",
       "      <th>Profit</th>\n",
       "    </tr>\n",
       "  </thead>\n",
       "  <tbody>\n",
       "    <tr>\n",
       "      <th>0</th>\n",
       "      <td>165349.20</td>\n",
       "      <td>136897.80</td>\n",
       "      <td>471784.10</td>\n",
       "      <td>Mumbai</td>\n",
       "      <td>192261.83</td>\n",
       "    </tr>\n",
       "    <tr>\n",
       "      <th>1</th>\n",
       "      <td>162597.70</td>\n",
       "      <td>151377.59</td>\n",
       "      <td>443898.53</td>\n",
       "      <td>Bangalore</td>\n",
       "      <td>191792.06</td>\n",
       "    </tr>\n",
       "    <tr>\n",
       "      <th>2</th>\n",
       "      <td>153441.51</td>\n",
       "      <td>101145.55</td>\n",
       "      <td>407934.54</td>\n",
       "      <td>Delhi</td>\n",
       "      <td>191050.39</td>\n",
       "    </tr>\n",
       "    <tr>\n",
       "      <th>3</th>\n",
       "      <td>144372.41</td>\n",
       "      <td>118671.85</td>\n",
       "      <td>383199.62</td>\n",
       "      <td>Mumbai</td>\n",
       "      <td>182901.99</td>\n",
       "    </tr>\n",
       "    <tr>\n",
       "      <th>4</th>\n",
       "      <td>142107.34</td>\n",
       "      <td>91391.77</td>\n",
       "      <td>366168.42</td>\n",
       "      <td>Delhi</td>\n",
       "      <td>166187.94</td>\n",
       "    </tr>\n",
       "  </tbody>\n",
       "</table>\n",
       "</div>"
      ],
      "text/plain": [
       "   R&D Spend  Administration  Marketing Spend       City     Profit\n",
       "0  165349.20       136897.80        471784.10     Mumbai  192261.83\n",
       "1  162597.70       151377.59        443898.53  Bangalore  191792.06\n",
       "2  153441.51       101145.55        407934.54      Delhi  191050.39\n",
       "3  144372.41       118671.85        383199.62     Mumbai  182901.99\n",
       "4  142107.34        91391.77        366168.42      Delhi  166187.94"
      ]
     },
     "execution_count": 51,
     "metadata": {},
     "output_type": "execute_result"
    }
   ],
   "source": [
    "df.head()"
   ]
  },
  {
   "cell_type": "code",
   "execution_count": 67,
   "metadata": {},
   "outputs": [
    {
     "data": {
      "text/plain": [
       "Bangalore    344\n",
       "Mumbai       334\n",
       "Delhi        322\n",
       "Name: City, dtype: int64"
      ]
     },
     "execution_count": 67,
     "metadata": {},
     "output_type": "execute_result"
    }
   ],
   "source": [
    "df.City.value_counts()"
   ]
  },
  {
   "cell_type": "code",
   "execution_count": 59,
   "metadata": {},
   "outputs": [
    {
     "data": {
      "text/plain": [
       "(1000, 5)"
      ]
     },
     "execution_count": 59,
     "metadata": {},
     "output_type": "execute_result"
    }
   ],
   "source": [
    "df.shape"
   ]
  },
  {
   "cell_type": "markdown",
   "metadata": {},
   "source": [
    "##### one hot encoding the categorical feature"
   ]
  },
  {
   "cell_type": "code",
   "execution_count": 86,
   "metadata": {},
   "outputs": [],
   "source": [
    "df_new_1= pd.get_dummies(df, drop_first=True)"
   ]
  },
  {
   "cell_type": "code",
   "execution_count": 87,
   "metadata": {},
   "outputs": [
    {
     "data": {
      "text/html": [
       "<div>\n",
       "<style scoped>\n",
       "    .dataframe tbody tr th:only-of-type {\n",
       "        vertical-align: middle;\n",
       "    }\n",
       "\n",
       "    .dataframe tbody tr th {\n",
       "        vertical-align: top;\n",
       "    }\n",
       "\n",
       "    .dataframe thead th {\n",
       "        text-align: right;\n",
       "    }\n",
       "</style>\n",
       "<table border=\"1\" class=\"dataframe\">\n",
       "  <thead>\n",
       "    <tr style=\"text-align: right;\">\n",
       "      <th></th>\n",
       "      <th>R&amp;D Spend</th>\n",
       "      <th>Administration</th>\n",
       "      <th>Marketing Spend</th>\n",
       "      <th>Profit</th>\n",
       "      <th>City_Delhi</th>\n",
       "      <th>City_Mumbai</th>\n",
       "    </tr>\n",
       "  </thead>\n",
       "  <tbody>\n",
       "    <tr>\n",
       "      <th>0</th>\n",
       "      <td>165349.20</td>\n",
       "      <td>136897.80</td>\n",
       "      <td>471784.10</td>\n",
       "      <td>192261.83</td>\n",
       "      <td>0</td>\n",
       "      <td>1</td>\n",
       "    </tr>\n",
       "    <tr>\n",
       "      <th>1</th>\n",
       "      <td>162597.70</td>\n",
       "      <td>151377.59</td>\n",
       "      <td>443898.53</td>\n",
       "      <td>191792.06</td>\n",
       "      <td>0</td>\n",
       "      <td>0</td>\n",
       "    </tr>\n",
       "    <tr>\n",
       "      <th>2</th>\n",
       "      <td>153441.51</td>\n",
       "      <td>101145.55</td>\n",
       "      <td>407934.54</td>\n",
       "      <td>191050.39</td>\n",
       "      <td>1</td>\n",
       "      <td>0</td>\n",
       "    </tr>\n",
       "    <tr>\n",
       "      <th>3</th>\n",
       "      <td>144372.41</td>\n",
       "      <td>118671.85</td>\n",
       "      <td>383199.62</td>\n",
       "      <td>182901.99</td>\n",
       "      <td>0</td>\n",
       "      <td>1</td>\n",
       "    </tr>\n",
       "    <tr>\n",
       "      <th>4</th>\n",
       "      <td>142107.34</td>\n",
       "      <td>91391.77</td>\n",
       "      <td>366168.42</td>\n",
       "      <td>166187.94</td>\n",
       "      <td>1</td>\n",
       "      <td>0</td>\n",
       "    </tr>\n",
       "  </tbody>\n",
       "</table>\n",
       "</div>"
      ],
      "text/plain": [
       "   R&D Spend  Administration  Marketing Spend     Profit  City_Delhi  \\\n",
       "0  165349.20       136897.80        471784.10  192261.83           0   \n",
       "1  162597.70       151377.59        443898.53  191792.06           0   \n",
       "2  153441.51       101145.55        407934.54  191050.39           1   \n",
       "3  144372.41       118671.85        383199.62  182901.99           0   \n",
       "4  142107.34        91391.77        366168.42  166187.94           1   \n",
       "\n",
       "   City_Mumbai  \n",
       "0            1  \n",
       "1            0  \n",
       "2            0  \n",
       "3            1  \n",
       "4            0  "
      ]
     },
     "execution_count": 87,
     "metadata": {},
     "output_type": "execute_result"
    }
   ],
   "source": [
    "df_new_1.head()"
   ]
  },
  {
   "cell_type": "code",
   "execution_count": 57,
   "metadata": {},
   "outputs": [],
   "source": [
    "from scipy import stats"
   ]
  },
  {
   "cell_type": "markdown",
   "metadata": {},
   "source": [
    "##### using z score analysis to remove the outliers which is actually distributing the data into the standard normal distribution where mean will be zero and standard deviation 1. Here we will neglect those values which fall outside the third standard deviation for both positive and negative ranges"
   ]
  },
  {
   "cell_type": "code",
   "execution_count": 88,
   "metadata": {},
   "outputs": [
    {
     "name": "stdout",
     "output_type": "stream",
     "text": [
      "[[1.79902277e+00 1.10519698e+00 2.68296826e+00 1.69630142e+00\n",
      "  6.89148934e-01 1.41209489e+00]\n",
      " [1.73986891e+00 2.25369218e+00 2.37831645e+00 1.68534269e+00\n",
      "  6.89148934e-01 7.08167707e-01]\n",
      " [1.54302211e+00 1.73056845e+00 1.98540734e+00 1.66804111e+00\n",
      "  1.45106515e+00 7.08167707e-01]\n",
      " ...\n",
      " [4.00017747e-01 9.43575567e+00 1.02451111e-02 6.86796488e+00\n",
      "  6.89148934e-01 7.08167707e-01]\n",
      " [1.00586937e+00 1.57593787e+01 6.06202226e-01 5.00186867e+00\n",
      "  6.89148934e-01 7.08167707e-01]\n",
      " [1.70942709e+00 1.17370268e+01 7.56420302e-01 8.32663195e+00\n",
      "  6.89148934e-01 1.41209489e+00]]\n"
     ]
    }
   ],
   "source": [
    "z = np.abs(stats.zscore(df_new_1))\n",
    "print(z)"
   ]
  },
  {
   "cell_type": "code",
   "execution_count": 89,
   "metadata": {},
   "outputs": [
    {
     "name": "stdout",
     "output_type": "stream",
     "text": [
      "(array([ 28,  35,  37,  38,  39,  41,  48, 997, 997, 998, 998, 999, 999],\n",
      "      dtype=int64), array([1, 1, 1, 1, 1, 1, 1, 1, 3, 1, 3, 1, 3], dtype=int64))\n"
     ]
    }
   ],
   "source": [
    "threshold = 3\n",
    "print(np.where(z > 3))"
   ]
  },
  {
   "cell_type": "markdown",
   "metadata": {},
   "source": [
    "##### here we can clearly see that Administration and Profit contained outliers and therefore we need to remove them so as to increase the accuracy of our model"
   ]
  },
  {
   "cell_type": "code",
   "execution_count": 90,
   "metadata": {},
   "outputs": [
    {
     "name": "stdout",
     "output_type": "stream",
     "text": [
      "4.733777442025808\n"
     ]
    }
   ],
   "source": [
    "print(z[28][1])"
   ]
  },
  {
   "cell_type": "markdown",
   "metadata": {},
   "source": [
    "##### The data point of 28th row and 1st column is an outlier and so on"
   ]
  },
  {
   "cell_type": "markdown",
   "metadata": {},
   "source": [
    "##### getting the new dataset without outliers"
   ]
  },
  {
   "cell_type": "code",
   "execution_count": 91,
   "metadata": {},
   "outputs": [],
   "source": [
    "df_new_1 = df_new_1[(z < 3).all(axis=1)]"
   ]
  },
  {
   "cell_type": "code",
   "execution_count": 92,
   "metadata": {},
   "outputs": [
    {
     "data": {
      "text/plain": [
       "(990, 6)"
      ]
     },
     "execution_count": 92,
     "metadata": {},
     "output_type": "execute_result"
    }
   ],
   "source": [
    "df_new_1.shape"
   ]
  },
  {
   "cell_type": "code",
   "execution_count": 159,
   "metadata": {},
   "outputs": [],
   "source": [
    "X= df_new_1.drop(\"Profit\", axis=1)\n",
    "y= df_new_1.Profit"
   ]
  },
  {
   "cell_type": "code",
   "execution_count": 160,
   "metadata": {},
   "outputs": [
    {
     "data": {
      "text/html": [
       "<div>\n",
       "<style scoped>\n",
       "    .dataframe tbody tr th:only-of-type {\n",
       "        vertical-align: middle;\n",
       "    }\n",
       "\n",
       "    .dataframe tbody tr th {\n",
       "        vertical-align: top;\n",
       "    }\n",
       "\n",
       "    .dataframe thead th {\n",
       "        text-align: right;\n",
       "    }\n",
       "</style>\n",
       "<table border=\"1\" class=\"dataframe\">\n",
       "  <thead>\n",
       "    <tr style=\"text-align: right;\">\n",
       "      <th></th>\n",
       "      <th>R&amp;D Spend</th>\n",
       "      <th>Administration</th>\n",
       "      <th>Marketing Spend</th>\n",
       "      <th>City_Delhi</th>\n",
       "      <th>City_Mumbai</th>\n",
       "    </tr>\n",
       "  </thead>\n",
       "  <tbody>\n",
       "    <tr>\n",
       "      <th>0</th>\n",
       "      <td>165349.20</td>\n",
       "      <td>136897.80</td>\n",
       "      <td>471784.10</td>\n",
       "      <td>0</td>\n",
       "      <td>1</td>\n",
       "    </tr>\n",
       "    <tr>\n",
       "      <th>1</th>\n",
       "      <td>162597.70</td>\n",
       "      <td>151377.59</td>\n",
       "      <td>443898.53</td>\n",
       "      <td>0</td>\n",
       "      <td>0</td>\n",
       "    </tr>\n",
       "    <tr>\n",
       "      <th>2</th>\n",
       "      <td>153441.51</td>\n",
       "      <td>101145.55</td>\n",
       "      <td>407934.54</td>\n",
       "      <td>1</td>\n",
       "      <td>0</td>\n",
       "    </tr>\n",
       "    <tr>\n",
       "      <th>3</th>\n",
       "      <td>144372.41</td>\n",
       "      <td>118671.85</td>\n",
       "      <td>383199.62</td>\n",
       "      <td>0</td>\n",
       "      <td>1</td>\n",
       "    </tr>\n",
       "    <tr>\n",
       "      <th>4</th>\n",
       "      <td>142107.34</td>\n",
       "      <td>91391.77</td>\n",
       "      <td>366168.42</td>\n",
       "      <td>1</td>\n",
       "      <td>0</td>\n",
       "    </tr>\n",
       "  </tbody>\n",
       "</table>\n",
       "</div>"
      ],
      "text/plain": [
       "   R&D Spend  Administration  Marketing Spend  City_Delhi  City_Mumbai\n",
       "0  165349.20       136897.80        471784.10           0            1\n",
       "1  162597.70       151377.59        443898.53           0            0\n",
       "2  153441.51       101145.55        407934.54           1            0\n",
       "3  144372.41       118671.85        383199.62           0            1\n",
       "4  142107.34        91391.77        366168.42           1            0"
      ]
     },
     "execution_count": 160,
     "metadata": {},
     "output_type": "execute_result"
    }
   ],
   "source": [
    "X.head()"
   ]
  },
  {
   "cell_type": "code",
   "execution_count": 161,
   "metadata": {},
   "outputs": [
    {
     "data": {
      "text/plain": [
       "0    192261.83\n",
       "1    191792.06\n",
       "2    191050.39\n",
       "3    182901.99\n",
       "4    166187.94\n",
       "Name: Profit, dtype: float64"
      ]
     },
     "execution_count": 161,
     "metadata": {},
     "output_type": "execute_result"
    }
   ],
   "source": [
    "y.head()"
   ]
  },
  {
   "cell_type": "markdown",
   "metadata": {},
   "source": [
    "##### normalizing the dataset so that there is improved accuracy and elimination of feature dominancy\n",
    "\n",
    "##### When you’re working with a learning model, it is important to scale the features to a range which is centered around zero. This is done so that the variance of the features are in the same range. If a feature’s variance is orders of magnitude more than the variance of other features, that particular feature might dominate other features in the dataset, which is not something we want happening in our model."
   ]
  },
  {
   "cell_type": "code",
   "execution_count": 162,
   "metadata": {},
   "outputs": [],
   "source": [
    "scaler= StandardScaler()"
   ]
  },
  {
   "cell_type": "code",
   "execution_count": 163,
   "metadata": {},
   "outputs": [],
   "source": [
    "X_new= scaler.fit_transform(X)"
   ]
  },
  {
   "cell_type": "code",
   "execution_count": 164,
   "metadata": {},
   "outputs": [
    {
     "data": {
      "text/plain": [
       "array([[ 1.79726098,  1.7894786 ,  2.67785239, -0.69109474,  1.41421356],\n",
       "       [ 1.73803392,  3.62127829,  2.37326491, -0.69109474, -0.70710678],\n",
       "       [ 1.54094353, -2.73344338,  1.98043875,  1.44697961, -0.70710678],\n",
       "       ...,\n",
       "       [ 0.33051784,  0.26070871,  0.32465188, -0.69109474,  1.41421356],\n",
       "       [-0.59666603, -0.54405059, -0.5831543 , -0.69109474, -0.70710678],\n",
       "       [ 1.14333741,  0.96620427,  1.12048392, -0.69109474, -0.70710678]])"
      ]
     },
     "execution_count": 164,
     "metadata": {},
     "output_type": "execute_result"
    }
   ],
   "source": [
    "X_new"
   ]
  },
  {
   "cell_type": "code",
   "execution_count": 165,
   "metadata": {},
   "outputs": [],
   "source": [
    "y= np.array(y)"
   ]
  },
  {
   "cell_type": "code",
   "execution_count": 166,
   "metadata": {},
   "outputs": [
    {
     "data": {
      "text/plain": [
       "((990,), (990, 5))"
      ]
     },
     "execution_count": 166,
     "metadata": {},
     "output_type": "execute_result"
    }
   ],
   "source": [
    "y.shape, X_new.shape"
   ]
  },
  {
   "cell_type": "markdown",
   "metadata": {},
   "source": [
    "##### so we have successfully removed 10 outliers from our dataset and now we are good to go to the splitting part"
   ]
  },
  {
   "cell_type": "code",
   "execution_count": 167,
   "metadata": {},
   "outputs": [],
   "source": [
    "X_train,X_test,y_train,y_test= train_test_split(X_new,y,test_size=0.25, random_state=42)"
   ]
  },
  {
   "cell_type": "code",
   "execution_count": 168,
   "metadata": {},
   "outputs": [
    {
     "data": {
      "text/plain": [
       "((742, 5), (248, 5), (742,), (248,))"
      ]
     },
     "execution_count": 168,
     "metadata": {},
     "output_type": "execute_result"
    }
   ],
   "source": [
    "X_train.shape, X_test.shape, y_train.shape, y_test.shape"
   ]
  },
  {
   "cell_type": "markdown",
   "metadata": {},
   "source": [
    "###### Using Linear Regression as our data is linearly related with the target as per the data visualization"
   ]
  },
  {
   "cell_type": "code",
   "execution_count": 169,
   "metadata": {},
   "outputs": [],
   "source": [
    "model= LinearRegression()"
   ]
  },
  {
   "cell_type": "code",
   "execution_count": 170,
   "metadata": {},
   "outputs": [
    {
     "data": {
      "text/plain": [
       "LinearRegression()"
      ]
     },
     "execution_count": 170,
     "metadata": {},
     "output_type": "execute_result"
    }
   ],
   "source": [
    "model.fit(X_train,y_train)"
   ]
  },
  {
   "cell_type": "code",
   "execution_count": 171,
   "metadata": {},
   "outputs": [],
   "source": [
    "y_pred= model.predict(X_test)"
   ]
  },
  {
   "cell_type": "code",
   "execution_count": 180,
   "metadata": {},
   "outputs": [
    {
     "data": {
      "text/plain": [
       "array([ 65931.39112338, 116497.11364739, 139490.96243102, 159461.19309624,\n",
       "       167393.80521003, 181906.86733382,  82522.67551701, 122232.94944966,\n",
       "        68609.76044906, 138553.52002823, 171130.65289025, 157505.70743024,\n",
       "       181564.35196996,  56863.02759077,  71699.44816002,  65761.89312277,\n",
       "        50343.61872593, 157941.13341629,  67368.02518519, 141344.9807659 ,\n",
       "        94252.31277389, 103085.87215358,  70178.54260487,  84758.26868048,\n",
       "        99864.79980604,  93220.25017927,  87062.75619636, 180513.82706411,\n",
       "        91147.40810264, 100362.28190478, 148104.83439321, 130620.05313538,\n",
       "       127207.16716742, 178555.86838472,  98339.52901737, 144758.97303173,\n",
       "       120300.29133563,  58524.72037619,  61197.36665734,  65178.32973555,\n",
       "       110344.91743776, 109972.02155734,  96694.61449345, 111207.39069862,\n",
       "       136324.08857836, 110177.3805141 , 100469.3898489 , 103349.39598243,\n",
       "       152231.20144178, 169606.83124421, 133781.88522838,  91930.72964789,\n",
       "       140503.61659499,  72406.35141639, 139060.7475537 , 146630.08696952,\n",
       "        99214.5724598 , 105449.59102012,  53312.27049214,  65436.47337119,\n",
       "        72632.61666028, 142699.80743455,  96522.26622983, 168873.77264846,\n",
       "       149836.10721606,  47346.67307103,  82132.64421436,  97388.158612  ,\n",
       "       185060.40313842, 122256.88330166, 141768.95175772, 168441.76577653,\n",
       "       128034.93728385, 114761.31540104, 128169.99255766, 148916.02083382,\n",
       "       152148.79968719, 109826.06583357, 116415.31516025, 142894.94884528,\n",
       "       167930.95004311,  97328.66683866,  82432.41165915, 120663.57293963,\n",
       "       181539.31182729,  60329.16145528, 119436.3600376 , 184105.95646156,\n",
       "        65097.72887944, 175772.7039333 , 170837.4632697 ,  60760.573956  ,\n",
       "       175748.7700885 , 114294.60539403, 154558.76802124, 142208.90316725,\n",
       "       132877.77925235,  88254.31985108, 166383.45496777, 108739.1282201 ,\n",
       "       156521.00059811, 152909.04216671, 182162.44662291, 108814.60929849,\n",
       "        72554.83166019, 164355.91624857, 120337.04689016, 135751.29889479,\n",
       "       157301.41495205, 107200.18094982,  77568.11774872, 182306.30121339,\n",
       "       185279.5697271 , 134857.45028196, 138777.22093492, 153920.50760352,\n",
       "        85747.50983278,  70844.15599085, 159194.50166489,  90503.24665139,\n",
       "       138758.66728334, 101633.08230093,  84716.89638295, 127428.8980933 ,\n",
       "        82103.32126529, 164775.10141077, 166898.37552139, 106434.04634064,\n",
       "       149640.87447432, 159204.15576063, 180246.28084649, 117568.41370446,\n",
       "       168228.92550263,  85765.71173572,  92874.40703231,  79977.1399727 ,\n",
       "       164160.17157759, 106151.96886235,  83501.74173325,  91531.80769327,\n",
       "       168785.38743106, 118234.02709044, 177705.01920256,  90716.34735013,\n",
       "       141161.79737046, 178966.67483354,  74401.15697412, 181933.95987724,\n",
       "       163457.0302873 , 153799.38033013,  64707.68867077, 136509.48896422,\n",
       "       143976.84911031,  60258.81795452, 159456.06441465,  55541.5373506 ,\n",
       "        70049.47079173,  77783.26195368, 121218.9196735 ,  52256.10496254,\n",
       "       140946.39275721,  86955.56582511, 132039.23984348,  92301.36142591,\n",
       "        59701.24082895, 180593.07010567,  68287.50830213, 129207.69576817,\n",
       "       141012.72276523, 185314.02135057, 168354.3266807 , 132829.6600461 ,\n",
       "        74136.42661971, 150335.55929056, 144171.99052104,  70436.08297091,\n",
       "        87605.54165254, 134946.34742646, 156478.60443488, 140204.10066182,\n",
       "       100102.57417871,  57352.56515104, 176019.73542453, 158938.31910834,\n",
       "       123661.88158666,  65708.04196532,  71782.11033009,  81910.99571561,\n",
       "       163504.55513212, 105249.32093285, 109281.57082431, 120960.77604001,\n",
       "       161608.65257047, 165136.93387212,  90016.28233348, 121065.31964693,\n",
       "        87155.58439862,  53142.169223  ,  68150.74346299,  89823.10199969,\n",
       "       160913.71623542, 114250.75118643, 119838.71001236,  51171.90077774,\n",
       "       184994.33354804, 161024.58615282, 116227.85787164, 143029.14934937,\n",
       "       165922.72842141, 161013.72552217, 117242.13916661,  99234.8267707 ,\n",
       "        86866.1021682 ,  99366.52663999, 181400.83742787,  94020.66732744,\n",
       "        92242.72443163,  63635.19989589, 168713.33438002, 169121.91933425,\n",
       "       138002.52962186, 145817.19096358, 114773.02190688,  55144.91931834,\n",
       "        52662.98035865, 142512.61056862, 131636.12641561, 111729.14948477,\n",
       "       165983.76066121, 166530.22565128, 128297.01197006,  54850.0201388 ,\n",
       "       123785.82472541,  83290.26817271,  64511.94399978, 183304.29694394,\n",
       "       151755.60077774,  82456.00265917,  80008.51532468,  80737.03960026,\n",
       "       145960.53362696, 103179.04320061, 164693.47546215, 114489.23487046,\n",
       "        54859.17120454, 105100.840684  ,  86051.55118224, 130982.47995311])"
      ]
     },
     "execution_count": 180,
     "metadata": {},
     "output_type": "execute_result"
    }
   ],
   "source": [
    "y_pred"
   ]
  },
  {
   "cell_type": "markdown",
   "metadata": {},
   "source": [
    "##### getting the R squared value to check the goodness of our model"
   ]
  },
  {
   "cell_type": "code",
   "execution_count": 179,
   "metadata": {},
   "outputs": [
    {
     "data": {
      "text/plain": [
       "0.9982340461559971"
      ]
     },
     "execution_count": 179,
     "metadata": {},
     "output_type": "execute_result"
    }
   ],
   "source": [
    "r2_score(y_test,y_pred)"
   ]
  },
  {
   "cell_type": "markdown",
   "metadata": {},
   "source": [
    "##### here we can see a good R2 square value which is near to 1 and therefore our model is a very good model to make predictions in case of Linear Regression."
   ]
  },
  {
   "cell_type": "code",
   "execution_count": 181,
   "metadata": {},
   "outputs": [],
   "source": [
    "data= pd.DataFrame({\"predicted\":y_pred,\"actual\":y_test})"
   ]
  },
  {
   "cell_type": "code",
   "execution_count": 184,
   "metadata": {
    "scrolled": true
   },
   "outputs": [
    {
     "data": {
      "text/html": [
       "<div>\n",
       "<style scoped>\n",
       "    .dataframe tbody tr th:only-of-type {\n",
       "        vertical-align: middle;\n",
       "    }\n",
       "\n",
       "    .dataframe tbody tr th {\n",
       "        vertical-align: top;\n",
       "    }\n",
       "\n",
       "    .dataframe thead th {\n",
       "        text-align: right;\n",
       "    }\n",
       "</style>\n",
       "<table border=\"1\" class=\"dataframe\">\n",
       "  <thead>\n",
       "    <tr style=\"text-align: right;\">\n",
       "      <th></th>\n",
       "      <th>predicted</th>\n",
       "      <th>actual</th>\n",
       "    </tr>\n",
       "  </thead>\n",
       "  <tbody>\n",
       "    <tr>\n",
       "      <th>0</th>\n",
       "      <td>65931.391123</td>\n",
       "      <td>66007.66868</td>\n",
       "    </tr>\n",
       "    <tr>\n",
       "      <th>1</th>\n",
       "      <td>116497.113647</td>\n",
       "      <td>116529.60610</td>\n",
       "    </tr>\n",
       "    <tr>\n",
       "      <th>2</th>\n",
       "      <td>139490.962431</td>\n",
       "      <td>139555.32140</td>\n",
       "    </tr>\n",
       "    <tr>\n",
       "      <th>3</th>\n",
       "      <td>159461.193096</td>\n",
       "      <td>159514.13070</td>\n",
       "    </tr>\n",
       "    <tr>\n",
       "      <th>4</th>\n",
       "      <td>167393.805210</td>\n",
       "      <td>167412.05440</td>\n",
       "    </tr>\n",
       "  </tbody>\n",
       "</table>\n",
       "</div>"
      ],
      "text/plain": [
       "       predicted        actual\n",
       "0   65931.391123   66007.66868\n",
       "1  116497.113647  116529.60610\n",
       "2  139490.962431  139555.32140\n",
       "3  159461.193096  159514.13070\n",
       "4  167393.805210  167412.05440"
      ]
     },
     "execution_count": 184,
     "metadata": {},
     "output_type": "execute_result"
    }
   ],
   "source": [
    "data.head()"
   ]
  },
  {
   "cell_type": "markdown",
   "metadata": {},
   "source": [
    "##### Saving the model as a pickle file for serialization"
   ]
  },
  {
   "cell_type": "code",
   "execution_count": 188,
   "metadata": {},
   "outputs": [
    {
     "name": "stdout",
     "output_type": "stream",
     "text": [
      "Requirement already satisfied: joblib in c:\\users\\1234\\anaconda3\\envs\\sagnik\\lib\\site-packages (0.15.1)\n"
     ]
    }
   ],
   "source": [
    "!pip install joblib"
   ]
  },
  {
   "cell_type": "code",
   "execution_count": 190,
   "metadata": {},
   "outputs": [],
   "source": [
    "import joblib"
   ]
  },
  {
   "cell_type": "code",
   "execution_count": 191,
   "metadata": {},
   "outputs": [
    {
     "data": {
      "text/plain": [
       "['company_profit_predicted.pkl']"
      ]
     },
     "execution_count": 191,
     "metadata": {},
     "output_type": "execute_result"
    }
   ],
   "source": [
    "joblib.dump(model, 'company_profit_predicted.pkl')"
   ]
  },
  {
   "cell_type": "markdown",
   "metadata": {},
   "source": [
    "##### by using pickling we can actually save the trained model and use it for future predictions without retraining the model again and again. The way to load this pickle file and then use it for prediciton purpose is given below"
   ]
  },
  {
   "cell_type": "code",
   "execution_count": 192,
   "metadata": {},
   "outputs": [],
   "source": [
    "from_joblib = joblib.load('company_profit_predicted.pkl')"
   ]
  },
  {
   "cell_type": "code",
   "execution_count": 193,
   "metadata": {},
   "outputs": [
    {
     "data": {
      "text/plain": [
       "array([ 65931.39112338, 116497.11364739, 139490.96243102, 159461.19309624,\n",
       "       167393.80521003, 181906.86733382,  82522.67551701, 122232.94944966,\n",
       "        68609.76044906, 138553.52002823, 171130.65289025, 157505.70743024,\n",
       "       181564.35196996,  56863.02759077,  71699.44816002,  65761.89312277,\n",
       "        50343.61872593, 157941.13341629,  67368.02518519, 141344.9807659 ,\n",
       "        94252.31277389, 103085.87215358,  70178.54260487,  84758.26868048,\n",
       "        99864.79980604,  93220.25017927,  87062.75619636, 180513.82706411,\n",
       "        91147.40810264, 100362.28190478, 148104.83439321, 130620.05313538,\n",
       "       127207.16716742, 178555.86838472,  98339.52901737, 144758.97303173,\n",
       "       120300.29133563,  58524.72037619,  61197.36665734,  65178.32973555,\n",
       "       110344.91743776, 109972.02155734,  96694.61449345, 111207.39069862,\n",
       "       136324.08857836, 110177.3805141 , 100469.3898489 , 103349.39598243,\n",
       "       152231.20144178, 169606.83124421, 133781.88522838,  91930.72964789,\n",
       "       140503.61659499,  72406.35141639, 139060.7475537 , 146630.08696952,\n",
       "        99214.5724598 , 105449.59102012,  53312.27049214,  65436.47337119,\n",
       "        72632.61666028, 142699.80743455,  96522.26622983, 168873.77264846,\n",
       "       149836.10721606,  47346.67307103,  82132.64421436,  97388.158612  ,\n",
       "       185060.40313842, 122256.88330166, 141768.95175772, 168441.76577653,\n",
       "       128034.93728385, 114761.31540104, 128169.99255766, 148916.02083382,\n",
       "       152148.79968719, 109826.06583357, 116415.31516025, 142894.94884528,\n",
       "       167930.95004311,  97328.66683866,  82432.41165915, 120663.57293963,\n",
       "       181539.31182729,  60329.16145528, 119436.3600376 , 184105.95646156,\n",
       "        65097.72887944, 175772.7039333 , 170837.4632697 ,  60760.573956  ,\n",
       "       175748.7700885 , 114294.60539403, 154558.76802124, 142208.90316725,\n",
       "       132877.77925235,  88254.31985108, 166383.45496777, 108739.1282201 ,\n",
       "       156521.00059811, 152909.04216671, 182162.44662291, 108814.60929849,\n",
       "        72554.83166019, 164355.91624857, 120337.04689016, 135751.29889479,\n",
       "       157301.41495205, 107200.18094982,  77568.11774872, 182306.30121339,\n",
       "       185279.5697271 , 134857.45028196, 138777.22093492, 153920.50760352,\n",
       "        85747.50983278,  70844.15599085, 159194.50166489,  90503.24665139,\n",
       "       138758.66728334, 101633.08230093,  84716.89638295, 127428.8980933 ,\n",
       "        82103.32126529, 164775.10141077, 166898.37552139, 106434.04634064,\n",
       "       149640.87447432, 159204.15576063, 180246.28084649, 117568.41370446,\n",
       "       168228.92550263,  85765.71173572,  92874.40703231,  79977.1399727 ,\n",
       "       164160.17157759, 106151.96886235,  83501.74173325,  91531.80769327,\n",
       "       168785.38743106, 118234.02709044, 177705.01920256,  90716.34735013,\n",
       "       141161.79737046, 178966.67483354,  74401.15697412, 181933.95987724,\n",
       "       163457.0302873 , 153799.38033013,  64707.68867077, 136509.48896422,\n",
       "       143976.84911031,  60258.81795452, 159456.06441465,  55541.5373506 ,\n",
       "        70049.47079173,  77783.26195368, 121218.9196735 ,  52256.10496254,\n",
       "       140946.39275721,  86955.56582511, 132039.23984348,  92301.36142591,\n",
       "        59701.24082895, 180593.07010567,  68287.50830213, 129207.69576817,\n",
       "       141012.72276523, 185314.02135057, 168354.3266807 , 132829.6600461 ,\n",
       "        74136.42661971, 150335.55929056, 144171.99052104,  70436.08297091,\n",
       "        87605.54165254, 134946.34742646, 156478.60443488, 140204.10066182,\n",
       "       100102.57417871,  57352.56515104, 176019.73542453, 158938.31910834,\n",
       "       123661.88158666,  65708.04196532,  71782.11033009,  81910.99571561,\n",
       "       163504.55513212, 105249.32093285, 109281.57082431, 120960.77604001,\n",
       "       161608.65257047, 165136.93387212,  90016.28233348, 121065.31964693,\n",
       "        87155.58439862,  53142.169223  ,  68150.74346299,  89823.10199969,\n",
       "       160913.71623542, 114250.75118643, 119838.71001236,  51171.90077774,\n",
       "       184994.33354804, 161024.58615282, 116227.85787164, 143029.14934937,\n",
       "       165922.72842141, 161013.72552217, 117242.13916661,  99234.8267707 ,\n",
       "        86866.1021682 ,  99366.52663999, 181400.83742787,  94020.66732744,\n",
       "        92242.72443163,  63635.19989589, 168713.33438002, 169121.91933425,\n",
       "       138002.52962186, 145817.19096358, 114773.02190688,  55144.91931834,\n",
       "        52662.98035865, 142512.61056862, 131636.12641561, 111729.14948477,\n",
       "       165983.76066121, 166530.22565128, 128297.01197006,  54850.0201388 ,\n",
       "       123785.82472541,  83290.26817271,  64511.94399978, 183304.29694394,\n",
       "       151755.60077774,  82456.00265917,  80008.51532468,  80737.03960026,\n",
       "       145960.53362696, 103179.04320061, 164693.47546215, 114489.23487046,\n",
       "        54859.17120454, 105100.840684  ,  86051.55118224, 130982.47995311])"
      ]
     },
     "execution_count": 193,
     "metadata": {},
     "output_type": "execute_result"
    }
   ],
   "source": [
    "from_joblib.predict(X_test)"
   ]
  }
 ],
 "metadata": {
  "kernelspec": {
   "display_name": "Python 3",
   "language": "python",
   "name": "python3"
  },
  "language_info": {
   "codemirror_mode": {
    "name": "ipython",
    "version": 3
   },
   "file_extension": ".py",
   "mimetype": "text/x-python",
   "name": "python",
   "nbconvert_exporter": "python",
   "pygments_lexer": "ipython3",
   "version": "3.8.3"
  }
 },
 "nbformat": 4,
 "nbformat_minor": 4
}
